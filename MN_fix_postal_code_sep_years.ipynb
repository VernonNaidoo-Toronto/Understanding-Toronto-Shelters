{
 "cells": [
  {
   "cell_type": "code",
   "execution_count": 1,
   "metadata": {},
   "outputs": [],
   "source": [
    "import numpy as np\n",
    "import pandas as pd \n",
    "path = 'https://raw.githubusercontent.com/VernonNaidoo-Toronto/Understanding-Toronto-Shelters/master/Shelter%20Data/'\n",
    "df17 = pd.read_csv(path + \"daily-shelter-occupancy-2017-csv.csv\")\n",
    "df18 = pd.read_csv(path + \"daily-shelter-occupancy-2018-csv.csv\")\n",
    "df19 = pd.read_csv(path + \"daily-shelter-occupancy-2019-csv.csv\")\n",
    "#df = pd.concat([df17,df18,df19])"
   ]
  },
  {
   "cell_type": "code",
   "execution_count": 2,
   "metadata": {},
   "outputs": [
    {
     "name": "stderr",
     "output_type": "stream",
     "text": [
      "/home/magmag/anaconda3/lib/python3.7/site-packages/ipykernel_launcher.py:6: SettingWithCopyWarning: \n",
      "A value is trying to be set on a copy of a slice from a DataFrame\n",
      "\n",
      "See the caveats in the documentation: https://pandas.pydata.org/pandas-docs/stable/user_guide/indexing.html#returning-a-view-versus-a-copy\n",
      "  \n",
      "/home/magmag/anaconda3/lib/python3.7/site-packages/ipykernel_launcher.py:7: SettingWithCopyWarning: \n",
      "A value is trying to be set on a copy of a slice from a DataFrame\n",
      "\n",
      "See the caveats in the documentation: https://pandas.pydata.org/pandas-docs/stable/user_guide/indexing.html#returning-a-view-versus-a-copy\n",
      "  import sys\n",
      "/home/magmag/anaconda3/lib/python3.7/site-packages/ipykernel_launcher.py:8: SettingWithCopyWarning: \n",
      "A value is trying to be set on a copy of a slice from a DataFrame\n",
      "\n",
      "See the caveats in the documentation: https://pandas.pydata.org/pandas-docs/stable/user_guide/indexing.html#returning-a-view-versus-a-copy\n",
      "  \n",
      "/home/magmag/anaconda3/lib/python3.7/site-packages/ipykernel_launcher.py:9: SettingWithCopyWarning: \n",
      "A value is trying to be set on a copy of a slice from a DataFrame\n",
      "\n",
      "See the caveats in the documentation: https://pandas.pydata.org/pandas-docs/stable/user_guide/indexing.html#returning-a-view-versus-a-copy\n",
      "  if __name__ == '__main__':\n",
      "/home/magmag/anaconda3/lib/python3.7/site-packages/ipykernel_launcher.py:11: SettingWithCopyWarning: \n",
      "A value is trying to be set on a copy of a slice from a DataFrame\n",
      "\n",
      "See the caveats in the documentation: https://pandas.pydata.org/pandas-docs/stable/user_guide/indexing.html#returning-a-view-versus-a-copy\n",
      "  # This is added back by InteractiveShellApp.init_path()\n",
      "/home/magmag/anaconda3/lib/python3.7/site-packages/ipykernel_launcher.py:12: SettingWithCopyWarning: \n",
      "A value is trying to be set on a copy of a slice from a DataFrame\n",
      "\n",
      "See the caveats in the documentation: https://pandas.pydata.org/pandas-docs/stable/user_guide/indexing.html#returning-a-view-versus-a-copy\n",
      "  if sys.path[0] == '':\n",
      "/home/magmag/anaconda3/lib/python3.7/site-packages/ipykernel_launcher.py:13: SettingWithCopyWarning: \n",
      "A value is trying to be set on a copy of a slice from a DataFrame\n",
      "\n",
      "See the caveats in the documentation: https://pandas.pydata.org/pandas-docs/stable/user_guide/indexing.html#returning-a-view-versus-a-copy\n",
      "  del sys.path[0]\n",
      "/home/magmag/anaconda3/lib/python3.7/site-packages/ipykernel_launcher.py:14: SettingWithCopyWarning: \n",
      "A value is trying to be set on a copy of a slice from a DataFrame\n",
      "\n",
      "See the caveats in the documentation: https://pandas.pydata.org/pandas-docs/stable/user_guide/indexing.html#returning-a-view-versus-a-copy\n",
      "  \n",
      "/home/magmag/anaconda3/lib/python3.7/site-packages/ipykernel_launcher.py:16: SettingWithCopyWarning: \n",
      "A value is trying to be set on a copy of a slice from a DataFrame\n",
      "\n",
      "See the caveats in the documentation: https://pandas.pydata.org/pandas-docs/stable/user_guide/indexing.html#returning-a-view-versus-a-copy\n",
      "  app.launch_new_instance()\n",
      "/home/magmag/anaconda3/lib/python3.7/site-packages/ipykernel_launcher.py:17: SettingWithCopyWarning: \n",
      "A value is trying to be set on a copy of a slice from a DataFrame\n",
      "\n",
      "See the caveats in the documentation: https://pandas.pydata.org/pandas-docs/stable/user_guide/indexing.html#returning-a-view-versus-a-copy\n",
      "/home/magmag/anaconda3/lib/python3.7/site-packages/ipykernel_launcher.py:18: SettingWithCopyWarning: \n",
      "A value is trying to be set on a copy of a slice from a DataFrame\n",
      "\n",
      "See the caveats in the documentation: https://pandas.pydata.org/pandas-docs/stable/user_guide/indexing.html#returning-a-view-versus-a-copy\n",
      "/home/magmag/anaconda3/lib/python3.7/site-packages/ipykernel_launcher.py:19: SettingWithCopyWarning: \n",
      "A value is trying to be set on a copy of a slice from a DataFrame\n",
      "\n",
      "See the caveats in the documentation: https://pandas.pydata.org/pandas-docs/stable/user_guide/indexing.html#returning-a-view-versus-a-copy\n",
      "/home/magmag/anaconda3/lib/python3.7/site-packages/pandas/core/indexing.py:670: SettingWithCopyWarning: \n",
      "A value is trying to be set on a copy of a slice from a DataFrame\n",
      "\n",
      "See the caveats in the documentation: https://pandas.pydata.org/pandas-docs/stable/user_guide/indexing.html#returning-a-view-versus-a-copy\n",
      "  self._setitem_with_indexer(indexer, value)\n"
     ]
    }
   ],
   "source": [
    "#Downsview Dells     -- M3M 2X4\n",
    "#Fort York Residence -- M5V 3W3\n",
    "#S2H Assessment and Referral Ctre -- ??\n",
    "#Salvation Army - Florence Booth  -- M6J 1E6\n",
    "\n",
    "df17[\"SHELTER_POSTAL_CODE\"][df17[\"SHELTER_NAME\"] == \"Birchmount Residence\"] = \"M1N 1S6\"\n",
    "df17[\"SHELTER_POSTAL_CODE\"][df17[\"SHELTER_NAME\"] == \"Salvation Army - Florence Booth\"] = \"M6J 1E6\"\n",
    "df17[\"SHELTER_POSTAL_CODE\"][df17[\"SHELTER_NAME\"] == \"Downsview Dells\"] = \"M3M 2X4\"\n",
    "df17[\"SHELTER_POSTAL_CODE\"][df17[\"SHELTER_NAME\"] == \"Fort York Residence\"] = \"M5V 3W3\"\n",
    "\n",
    "df18[\"SHELTER_POSTAL_CODE\"][df18[\"SHELTER_NAME\"] == \"Birchmount Residence\"] = \"M1N 1S6\"\n",
    "df18[\"SHELTER_POSTAL_CODE\"][df18[\"SHELTER_NAME\"] == \"Salvation Army - Florence Booth\"] = \"M6J 1E6\"\n",
    "df18[\"SHELTER_POSTAL_CODE\"][df18[\"SHELTER_NAME\"] == \"Downsview Dells\"] = \"M3M 2X4\"\n",
    "df18[\"SHELTER_POSTAL_CODE\"][df18[\"SHELTER_NAME\"] == \"Fort York Residence\"] = \"M5V 3W3\"\n",
    "\n",
    "df19[\"SHELTER_POSTAL_CODE\"][df19[\"SHELTER_NAME\"] == \"Birchmount Residence\"] = \"M1N 1S6\"\n",
    "df19[\"SHELTER_POSTAL_CODE\"][df19[\"SHELTER_NAME\"] == \"Salvation Army - Florence Booth\"] = \"M6J 1E6\"\n",
    "df19[\"SHELTER_POSTAL_CODE\"][df19[\"SHELTER_NAME\"] == \"Downsview Dells\"] = \"M3M 2X4\"\n",
    "df19[\"SHELTER_POSTAL_CODE\"][df19[\"SHELTER_NAME\"] == \"Fort York Residence\"] = \"M5V 3W3\"\n",
    "\n",
    "df17[\"SHELTER_POSTAL_CODE\"].loc[(df17[\"SHELTER_NAME\"] == \"S2H Assessment and Referral Ctre\") & (df17[\"SHELTER_ADDRESS\"] == \"67 Adelaide Street East\")] = \"M5C 1K6\"\n",
    "df17[\"SHELTER_POSTAL_CODE\"].loc[(df17[\"SHELTER_NAME\"] == \"S2H Assessment and Referral Ctre\") & (df17[\"SHELTER_ADDRESS\"] == \"129 Peter St\")] = \"M5V 1X1\"\n",
    "\n",
    "df18[\"SHELTER_POSTAL_CODE\"].loc[(df18[\"SHELTER_NAME\"] == \"S2H Assessment and Referral Ctre\") & (df18[\"SHELTER_ADDRESS\"] == \"67 Adelaide Street East\")] = \"M5C 1K6\"\n",
    "df18[\"SHELTER_POSTAL_CODE\"].loc[(df18[\"SHELTER_NAME\"] == \"S2H Assessment and Referral Ctre\") & (df18[\"SHELTER_ADDRESS\"] == \"129 Peter St\")] = \"M5V 1X1\"\n",
    "\n",
    "df19[\"SHELTER_POSTAL_CODE\"].loc[(df19[\"SHELTER_NAME\"] == \"S2H Assessment and Referral Ctre\") & (df19[\"SHELTER_ADDRESS\"] == \"67 Adelaide Street East\")] = \"M5C 1K6\"\n",
    "df19[\"SHELTER_POSTAL_CODE\"].loc[(df19[\"SHELTER_NAME\"] == \"S2H Assessment and Referral Ctre\") & (df19[\"SHELTER_ADDRESS\"] == \"129 Peter St\")] = \"M5V 1X1\""
   ]
  },
  {
   "cell_type": "code",
   "execution_count": 3,
   "metadata": {},
   "outputs": [
    {
     "name": "stderr",
     "output_type": "stream",
     "text": [
      "/home/magmag/anaconda3/lib/python3.7/site-packages/ipykernel_launcher.py:1: SettingWithCopyWarning: \n",
      "A value is trying to be set on a copy of a slice from a DataFrame\n",
      "\n",
      "See the caveats in the documentation: https://pandas.pydata.org/pandas-docs/stable/user_guide/indexing.html#returning-a-view-versus-a-copy\n",
      "  \"\"\"Entry point for launching an IPython kernel.\n",
      "/home/magmag/anaconda3/lib/python3.7/site-packages/ipykernel_launcher.py:2: SettingWithCopyWarning: \n",
      "A value is trying to be set on a copy of a slice from a DataFrame\n",
      "\n",
      "See the caveats in the documentation: https://pandas.pydata.org/pandas-docs/stable/user_guide/indexing.html#returning-a-view-versus-a-copy\n",
      "  \n",
      "/home/magmag/anaconda3/lib/python3.7/site-packages/ipykernel_launcher.py:3: SettingWithCopyWarning: \n",
      "A value is trying to be set on a copy of a slice from a DataFrame\n",
      "\n",
      "See the caveats in the documentation: https://pandas.pydata.org/pandas-docs/stable/user_guide/indexing.html#returning-a-view-versus-a-copy\n",
      "  This is separate from the ipykernel package so we can avoid doing imports until\n",
      "/home/magmag/anaconda3/lib/python3.7/site-packages/ipykernel_launcher.py:4: SettingWithCopyWarning: \n",
      "A value is trying to be set on a copy of a slice from a DataFrame\n",
      "\n",
      "See the caveats in the documentation: https://pandas.pydata.org/pandas-docs/stable/user_guide/indexing.html#returning-a-view-versus-a-copy\n",
      "  after removing the cwd from sys.path.\n",
      "/home/magmag/anaconda3/lib/python3.7/site-packages/ipykernel_launcher.py:5: SettingWithCopyWarning: \n",
      "A value is trying to be set on a copy of a slice from a DataFrame\n",
      "\n",
      "See the caveats in the documentation: https://pandas.pydata.org/pandas-docs/stable/user_guide/indexing.html#returning-a-view-versus-a-copy\n",
      "  \"\"\"\n",
      "/home/magmag/anaconda3/lib/python3.7/site-packages/ipykernel_launcher.py:6: SettingWithCopyWarning: \n",
      "A value is trying to be set on a copy of a slice from a DataFrame\n",
      "\n",
      "See the caveats in the documentation: https://pandas.pydata.org/pandas-docs/stable/user_guide/indexing.html#returning-a-view-versus-a-copy\n",
      "  \n"
     ]
    }
   ],
   "source": [
    "df17[\"SHELTER_POSTAL_CODE\"][df17[\"SHELTER_POSTAL_CODE\"] == \"M5T-1P7\"] = \"M5T 1P7\"\n",
    "df17[\"SHELTER_POSTAL_CODE\"][df17[\"SHELTER_POSTAL_CODE\"] == \"M5A-2N2\"] = \"M5A 2N2\"\n",
    "df18[\"SHELTER_POSTAL_CODE\"][df18[\"SHELTER_POSTAL_CODE\"] == \"M5T-1P7\"] = \"M5T 1P7\"\n",
    "df18[\"SHELTER_POSTAL_CODE\"][df18[\"SHELTER_POSTAL_CODE\"] == \"M5A-2N2\"] = \"M5A 2N2\"\n",
    "df19[\"SHELTER_POSTAL_CODE\"][df19[\"SHELTER_POSTAL_CODE\"] == \"M5T-1P7\"] = \"M5T 1P7\"\n",
    "df19[\"SHELTER_POSTAL_CODE\"][df19[\"SHELTER_POSTAL_CODE\"] == \"M5A-2N2\"] = \"M5A 2N2\""
   ]
  },
  {
   "cell_type": "code",
   "execution_count": 4,
   "metadata": {},
   "outputs": [
    {
     "name": "stderr",
     "output_type": "stream",
     "text": [
      "/home/magmag/anaconda3/lib/python3.7/site-packages/ipykernel_launcher.py:3: SettingWithCopyWarning: \n",
      "A value is trying to be set on a copy of a slice from a DataFrame\n",
      "\n",
      "See the caveats in the documentation: https://pandas.pydata.org/pandas-docs/stable/user_guide/indexing.html#returning-a-view-versus-a-copy\n",
      "  This is separate from the ipykernel package so we can avoid doing imports until\n"
     ]
    }
   ],
   "source": [
    "df17[\"SHELTER_POSTAL_CODE_3DIGIT\"] = df17[\"SHELTER_POSTAL_CODE\"]\n",
    "for i in df17[\"SHELTER_POSTAL_CODE\"].index:\n",
    "    df17[\"SHELTER_POSTAL_CODE_3DIGIT\"][i] = df17[\"SHELTER_POSTAL_CODE\"][i].split()[0]"
   ]
  },
  {
   "cell_type": "code",
   "execution_count": 5,
   "metadata": {},
   "outputs": [
    {
     "name": "stderr",
     "output_type": "stream",
     "text": [
      "/home/magmag/anaconda3/lib/python3.7/site-packages/ipykernel_launcher.py:3: SettingWithCopyWarning: \n",
      "A value is trying to be set on a copy of a slice from a DataFrame\n",
      "\n",
      "See the caveats in the documentation: https://pandas.pydata.org/pandas-docs/stable/user_guide/indexing.html#returning-a-view-versus-a-copy\n",
      "  This is separate from the ipykernel package so we can avoid doing imports until\n"
     ]
    }
   ],
   "source": [
    "df18[\"SHELTER_POSTAL_CODE_3DIGIT\"] = df18[\"SHELTER_POSTAL_CODE\"]\n",
    "for i in df18[\"SHELTER_POSTAL_CODE\"].index:\n",
    "    df18[\"SHELTER_POSTAL_CODE_3DIGIT\"][i] = df18[\"SHELTER_POSTAL_CODE\"][i].split()[0]"
   ]
  },
  {
   "cell_type": "code",
   "execution_count": 6,
   "metadata": {},
   "outputs": [
    {
     "name": "stderr",
     "output_type": "stream",
     "text": [
      "/home/magmag/anaconda3/lib/python3.7/site-packages/ipykernel_launcher.py:3: SettingWithCopyWarning: \n",
      "A value is trying to be set on a copy of a slice from a DataFrame\n",
      "\n",
      "See the caveats in the documentation: https://pandas.pydata.org/pandas-docs/stable/user_guide/indexing.html#returning-a-view-versus-a-copy\n",
      "  This is separate from the ipykernel package so we can avoid doing imports until\n"
     ]
    }
   ],
   "source": [
    "df19[\"SHELTER_POSTAL_CODE_3DIGIT\"] = df19[\"SHELTER_POSTAL_CODE\"]\n",
    "for i in df19[\"SHELTER_POSTAL_CODE\"].index:\n",
    "    df19[\"SHELTER_POSTAL_CODE_3DIGIT\"][i] = df19[\"SHELTER_POSTAL_CODE\"][i].split()[0]"
   ]
  },
  {
   "cell_type": "code",
   "execution_count": 7,
   "metadata": {},
   "outputs": [],
   "source": [
    "df17.to_csv(\"daily-shelter-occupancy-2017-fix-postalcode.csv\")\n",
    "df18.to_csv(\"daily-shelter-occupancy-2018-fix-postalcode.csv\")\n",
    "df19.to_csv(\"daily-shelter-occupancy-2019-fix-postalcode.csv\")"
   ]
  },
  {
   "cell_type": "code",
   "execution_count": null,
   "metadata": {},
   "outputs": [],
   "source": []
  },
  {
   "cell_type": "code",
   "execution_count": null,
   "metadata": {},
   "outputs": [],
   "source": []
  }
 ],
 "metadata": {
  "kernelspec": {
   "display_name": "Python 3",
   "language": "python",
   "name": "python3"
  },
  "language_info": {
   "codemirror_mode": {
    "name": "ipython",
    "version": 3
   },
   "file_extension": ".py",
   "mimetype": "text/x-python",
   "name": "python",
   "nbconvert_exporter": "python",
   "pygments_lexer": "ipython3",
   "version": "3.8.3"
  }
 },
 "nbformat": 4,
 "nbformat_minor": 4
}
