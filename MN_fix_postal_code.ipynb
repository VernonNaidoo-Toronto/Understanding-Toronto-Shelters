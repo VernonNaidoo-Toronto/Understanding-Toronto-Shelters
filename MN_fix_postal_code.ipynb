{
 "cells": [
  {
   "cell_type": "code",
   "execution_count": 1,
   "metadata": {},
   "outputs": [],
   "source": [
    "import numpy as np\n",
    "import pandas as pd \n",
    "df17 = pd.read_csv(\"daily-shelter-occupancy-2017-csv.csv\")\n",
    "df18 = pd.read_csv(\"daily-shelter-occupancy-2018-csv.csv\")\n",
    "df19 = pd.read_csv(\"daily-shelter-occupancy-2019-csv.csv\")\n",
    "df = pd.concat([df17,df18,df19])"
   ]
  },
  {
   "cell_type": "code",
   "execution_count": 2,
   "metadata": {},
   "outputs": [
    {
     "data": {
      "text/plain": [
       "5494"
      ]
     },
     "execution_count": 2,
     "metadata": {},
     "output_type": "execute_result"
    }
   ],
   "source": [
    "df[\"SHELTER_POSTAL_CODE\"].isnull().sum()"
   ]
  },
  {
   "cell_type": "code",
   "execution_count": 3,
   "metadata": {},
   "outputs": [
    {
     "name": "stdout",
     "output_type": "stream",
     "text": [
      "[nan] -- Birchmount Residence\n",
      "['M1P 4V8'] -- Birkdale Residence\n",
      "['M5S 2P1'] -- COSTI Reception Centre\n",
      "['M6H 3Z5'] -- Christie Ossington Men's Hostel\n",
      "['M6G 3B1'] -- Christie Refugee Welcome Centre\n",
      "['M6C 1C2'] -- Cornerstone Place\n",
      "['M5B 2P3'] -- Covenant House\n",
      "['M4C 1L7'] -- Dixon Hall - Heyworth House\n",
      "['M5A 2N2'] -- Dixon Hall - Schoolhouse\n",
      "[nan 'M3M 2X4'] -- Downsview Dells\n",
      "['M6K 1Z3'] -- Dufferin Women's Shelter\n",
      "['M5S 2P9'] -- Eagles Nest Transition House\n",
      "['M5V 3G9'] -- Eva's Phoenix\n",
      "['M3B 2T5'] -- Eva's Place\n",
      "['M2N OE3'] -- Eva's Satellite\n",
      "['M5B 2A1' 'M4Y 2H6'] -- FV Women's Transition to Housing\n",
      "['M1E 2M6'] -- Family Residence\n",
      "['M4X 1K9'] -- Fife House Transitional Program\n",
      "[nan 'M5V 3W3'] -- Fort York Residence\n",
      "['M5C 1M3'] -- Fred Victor Women's Hostel\n",
      "['M6A 2W9'] -- Fred Victor, BUS\n",
      "['M5A 1T3'] -- Good Shepherd Centre\n",
      "['M1K 2B5'] -- HFS - Kennedy Shelter\n",
      "['M6H 1P2'] -- HFS - Savard's Womens' Shelter\n",
      "['M1K 1M2'] -- HFS - Scarborough Shelter\n",
      "['M5V 1G8'] -- HFS - Strachan House\n",
      "['M6E 4X3'] -- Horizons for Youth\n",
      "['M4K 3W5'] -- Kennedy House Youth Shelter\n",
      "['M4K 3W5'] -- Kennedy House Youth shelter\n",
      "['M6G 2N1'] -- Na-Me-Res\n",
      "['M4M 1J2'] -- Red Door Queen Street\n",
      "['M5A 2R9'] -- Robertson House\n",
      "[nan] -- S2H Assessment and Referral Ctre\n",
      "['M4M 2V8'] -- SVDP - Amelie House\n",
      "['M8Y 1A3'] -- SVDP - Elisa House\n",
      "['M5B 1G6'] -- SVDP - Mary's Home\n",
      "['M2M 3S3'] -- SVDP - St. Clare's Residence\n",
      "['M6P 1Y5'] -- Salvation Army - Evangeline Res\n",
      "['M6J1E6'] -- Salvation Army - Florence Booth\n",
      "['M5C 2H4'] -- Salvation Army - Gateway\n",
      "['M5T-1P7'] -- Salvation Army - Hope\n",
      "['M5A 2R5'] -- Salvation Army - Maxwell Meighen\n",
      "['M4M 3C3'] -- Salvation Army - New Hope Leslie\n",
      "['M9V 2X6'] -- Salvation Army Islington Seniors\n",
      "['M1M 1P8'] -- Scarborough Village Residence\n",
      "['M5S 2H1'] -- Scott Mission Men's Ministry\n",
      "['M5A-2N2'] -- Seaton House\n",
      "['M1K 2B5'] -- Second Base Youth Shelter\n",
      "['M5A 2V2'] -- Sojourn House\n",
      "['M6L 3C6'] -- Sojourn House - Queens Drive\n",
      "['M4W 1J1'] -- St. Simon's Shelter\n",
      "['M5A 2N9'] -- Street Haven\n",
      "['M5V 1X1'] -- Streets To Homes\n",
      "['M5R 2T9'] -- Toronto Community Hostel\n",
      "['M4K 3W5'] -- Touchstone Youth Centre\n",
      "['M4Y 2X9'] -- Turning Point Youth Services\n",
      "['M5T 1C3'] -- Univ Settlement House - OOTC\n",
      "['M5T 1H9'] -- Women's Residence\n",
      "['M5V 2A9' 'M5T 2V9'] -- YMCA House\n",
      "['M5R 2W7'] -- YMCA Sprott House\n",
      "['M6E 4S8'] -- YWCA - Beatrice House\n",
      "['M4T 1C1'] -- YWCA - First Stop Woodlawn\n",
      "['M5R 1K6'] -- YWCA-348 Davenport\n",
      "['M9V 1P9'] -- Youth Without Shelter\n",
      "['M1L 4A1'] -- YouthLink Shelter\n"
     ]
    }
   ],
   "source": [
    "#Analysis on missing postal codes:\n",
    "for n in df.groupby(\"SHELTER_NAME\").groups.keys():\n",
    "    num_PC = df.groupby(\"SHELTER_NAME\").get_group(n)[\"SHELTER_POSTAL_CODE\"].unique()\n",
    "    print(num_PC, \"--\", n)"
   ]
  },
  {
   "cell_type": "code",
   "execution_count": 4,
   "metadata": {},
   "outputs": [
    {
     "data": {
      "text/html": [
       "<div>\n",
       "<style scoped>\n",
       "    .dataframe tbody tr th:only-of-type {\n",
       "        vertical-align: middle;\n",
       "    }\n",
       "\n",
       "    .dataframe tbody tr th {\n",
       "        vertical-align: top;\n",
       "    }\n",
       "\n",
       "    .dataframe thead th {\n",
       "        text-align: right;\n",
       "    }\n",
       "</style>\n",
       "<table border=\"1\" class=\"dataframe\">\n",
       "  <thead>\n",
       "    <tr style=\"text-align: right;\">\n",
       "      <th></th>\n",
       "      <th>SHELTER_POSTAL_CODE</th>\n",
       "    </tr>\n",
       "    <tr>\n",
       "      <th>SHELTER_ADDRESS</th>\n",
       "      <th></th>\n",
       "    </tr>\n",
       "  </thead>\n",
       "  <tbody>\n",
       "    <tr>\n",
       "      <th>485 Queen St West</th>\n",
       "      <td>730</td>\n",
       "    </tr>\n",
       "    <tr>\n",
       "      <th>7 Vanauley Street</th>\n",
       "      <td>367</td>\n",
       "    </tr>\n",
       "  </tbody>\n",
       "</table>\n",
       "</div>"
      ],
      "text/plain": [
       "                   SHELTER_POSTAL_CODE\n",
       "SHELTER_ADDRESS                       \n",
       "485 Queen St West                  730\n",
       "7 Vanauley Street                  367"
      ]
     },
     "execution_count": 4,
     "metadata": {},
     "output_type": "execute_result"
    }
   ],
   "source": [
    "df_ynca = df.groupby(\"SHELTER_NAME\").get_group(\"YMCA House\")[[\"SHELTER_ADDRESS\",\"SHELTER_POSTAL_CODE\"]]\n",
    "df_ynca.groupby(\"SHELTER_ADDRESS\").count()"
   ]
  },
  {
   "cell_type": "code",
   "execution_count": 5,
   "metadata": {},
   "outputs": [
    {
     "data": {
      "text/html": [
       "<div>\n",
       "<style scoped>\n",
       "    .dataframe tbody tr th:only-of-type {\n",
       "        vertical-align: middle;\n",
       "    }\n",
       "\n",
       "    .dataframe tbody tr th {\n",
       "        vertical-align: top;\n",
       "    }\n",
       "\n",
       "    .dataframe thead th {\n",
       "        text-align: right;\n",
       "    }\n",
       "</style>\n",
       "<table border=\"1\" class=\"dataframe\">\n",
       "  <thead>\n",
       "    <tr style=\"text-align: right;\">\n",
       "      <th></th>\n",
       "      <th>SHELTER_POSTAL_CODE</th>\n",
       "    </tr>\n",
       "    <tr>\n",
       "      <th>SHELTER_ADDRESS</th>\n",
       "      <th></th>\n",
       "    </tr>\n",
       "  </thead>\n",
       "  <tbody>\n",
       "    <tr>\n",
       "      <th>389 Church Street</th>\n",
       "      <td>730</td>\n",
       "    </tr>\n",
       "    <tr>\n",
       "      <th>512 Jarvis St.</th>\n",
       "      <td>1460</td>\n",
       "    </tr>\n",
       "  </tbody>\n",
       "</table>\n",
       "</div>"
      ],
      "text/plain": [
       "                   SHELTER_POSTAL_CODE\n",
       "SHELTER_ADDRESS                       \n",
       "389 Church Street                  730\n",
       "512 Jarvis St.                    1460"
      ]
     },
     "execution_count": 5,
     "metadata": {},
     "output_type": "execute_result"
    }
   ],
   "source": [
    "df_fvWTH = df.groupby(\"SHELTER_NAME\").get_group(\"FV Women's Transition to Housing\")[[\"SHELTER_ADDRESS\",\"SHELTER_POSTAL_CODE\"]]\n",
    "df_fvWTH.groupby(\"SHELTER_ADDRESS\").count()"
   ]
  },
  {
   "cell_type": "code",
   "execution_count": 6,
   "metadata": {},
   "outputs": [
    {
     "data": {
      "text/plain": [
       "array(['M5V 2A9'], dtype=object)"
      ]
     },
     "execution_count": 6,
     "metadata": {},
     "output_type": "execute_result"
    }
   ],
   "source": [
    "df_ynca.groupby(\"SHELTER_ADDRESS\").get_group(\"485 Queen St West\")[\"SHELTER_POSTAL_CODE\"].unique()"
   ]
  },
  {
   "cell_type": "code",
   "execution_count": 7,
   "metadata": {},
   "outputs": [
    {
     "data": {
      "text/plain": [
       "array(['M5T 2V9'], dtype=object)"
      ]
     },
     "execution_count": 7,
     "metadata": {},
     "output_type": "execute_result"
    }
   ],
   "source": [
    "df_ynca.groupby(\"SHELTER_ADDRESS\").get_group(\"7 Vanauley Street\")[\"SHELTER_POSTAL_CODE\"].unique()"
   ]
  },
  {
   "cell_type": "code",
   "execution_count": 8,
   "metadata": {},
   "outputs": [
    {
     "data": {
      "text/plain": [
       "array(['M5B 2A1'], dtype=object)"
      ]
     },
     "execution_count": 8,
     "metadata": {},
     "output_type": "execute_result"
    }
   ],
   "source": [
    "df_fvWTH.groupby(\"SHELTER_ADDRESS\").get_group(\"389 Church Street\")[\"SHELTER_POSTAL_CODE\"].unique()"
   ]
  },
  {
   "cell_type": "code",
   "execution_count": 9,
   "metadata": {},
   "outputs": [
    {
     "data": {
      "text/plain": [
       "array(['M4Y 2H6'], dtype=object)"
      ]
     },
     "execution_count": 9,
     "metadata": {},
     "output_type": "execute_result"
    }
   ],
   "source": [
    "df_fvWTH.groupby(\"SHELTER_ADDRESS\").get_group(\"512 Jarvis St.\")[\"SHELTER_POSTAL_CODE\"].unique()"
   ]
  },
  {
   "cell_type": "code",
   "execution_count": 10,
   "metadata": {},
   "outputs": [
    {
     "data": {
      "text/plain": [
       "array([nan], dtype=object)"
      ]
     },
     "execution_count": 10,
     "metadata": {},
     "output_type": "execute_result"
    }
   ],
   "source": [
    "df.groupby(\"SHELTER_NAME\").get_group(\"Birchmount Residence\")[\"SHELTER_POSTAL_CODE\"].unique()"
   ]
  },
  {
   "cell_type": "code",
   "execution_count": 11,
   "metadata": {},
   "outputs": [
    {
     "data": {
      "text/plain": [
       "array(['1673 Kingston Road'], dtype=object)"
      ]
     },
     "execution_count": 11,
     "metadata": {},
     "output_type": "execute_result"
    }
   ],
   "source": [
    "df.groupby(\"SHELTER_NAME\").get_group(\"Birchmount Residence\")[\"SHELTER_ADDRESS\"].unique()"
   ]
  },
  {
   "cell_type": "code",
   "execution_count": 12,
   "metadata": {},
   "outputs": [
    {
     "data": {
      "text/plain": [
       "array(['M6J1E6'], dtype=object)"
      ]
     },
     "execution_count": 12,
     "metadata": {},
     "output_type": "execute_result"
    }
   ],
   "source": [
    "df.groupby(\"SHELTER_NAME\").get_group(\"Salvation Army - Florence Booth\")[\"SHELTER_POSTAL_CODE\"].unique()"
   ]
  },
  {
   "cell_type": "code",
   "execution_count": 13,
   "metadata": {},
   "outputs": [
    {
     "data": {
      "text/plain": [
       "array(['723 Queen Street West'], dtype=object)"
      ]
     },
     "execution_count": 13,
     "metadata": {},
     "output_type": "execute_result"
    }
   ],
   "source": [
    "df.groupby(\"SHELTER_NAME\").get_group(\"Salvation Army - Florence Booth\")[\"SHELTER_ADDRESS\"].unique()"
   ]
  },
  {
   "cell_type": "code",
   "execution_count": 14,
   "metadata": {},
   "outputs": [
    {
     "data": {
      "text/plain": [
       "array([nan, 'M3M 2X4'], dtype=object)"
      ]
     },
     "execution_count": 14,
     "metadata": {},
     "output_type": "execute_result"
    }
   ],
   "source": [
    "df.groupby(\"SHELTER_NAME\").get_group(\"Downsview Dells\")[\"SHELTER_POSTAL_CODE\"].unique()"
   ]
  },
  {
   "cell_type": "code",
   "execution_count": 15,
   "metadata": {},
   "outputs": [
    {
     "data": {
      "text/plain": [
       "array(['1651 Sheppard Ave West'], dtype=object)"
      ]
     },
     "execution_count": 15,
     "metadata": {},
     "output_type": "execute_result"
    }
   ],
   "source": [
    "df.groupby(\"SHELTER_NAME\").get_group(\"Downsview Dells\")[\"SHELTER_ADDRESS\"].unique()"
   ]
  },
  {
   "cell_type": "code",
   "execution_count": 16,
   "metadata": {},
   "outputs": [
    {
     "data": {
      "text/plain": [
       "array([nan, 'M5V 3W3'], dtype=object)"
      ]
     },
     "execution_count": 16,
     "metadata": {},
     "output_type": "execute_result"
    }
   ],
   "source": [
    "df.groupby(\"SHELTER_NAME\").get_group(\"Fort York Residence\")[\"SHELTER_POSTAL_CODE\"].unique()"
   ]
  },
  {
   "cell_type": "code",
   "execution_count": 17,
   "metadata": {},
   "outputs": [
    {
     "data": {
      "text/plain": [
       "array(['38 Bathrust St'], dtype=object)"
      ]
     },
     "execution_count": 17,
     "metadata": {},
     "output_type": "execute_result"
    }
   ],
   "source": [
    "df.groupby(\"SHELTER_NAME\").get_group(\"Fort York Residence\")[\"SHELTER_ADDRESS\"].unique()"
   ]
  },
  {
   "cell_type": "code",
   "execution_count": 19,
   "metadata": {},
   "outputs": [
    {
     "data": {
      "text/plain": [
       "array(['M1N 1S6'], dtype=object)"
      ]
     },
     "execution_count": 19,
     "metadata": {},
     "output_type": "execute_result"
    }
   ],
   "source": [
    "df.groupby(\"SHELTER_NAME\").get_group(\"Birchmount Residence\")[\"SHELTER_POSTAL_CODE\"].unique()"
   ]
  },
  {
   "cell_type": "code",
   "execution_count": 20,
   "metadata": {},
   "outputs": [
    {
     "data": {
      "text/plain": [
       "array(['M6J 1E6'], dtype=object)"
      ]
     },
     "execution_count": 20,
     "metadata": {},
     "output_type": "execute_result"
    }
   ],
   "source": [
    "df.groupby(\"SHELTER_NAME\").get_group(\"Salvation Army - Florence Booth\")[\"SHELTER_POSTAL_CODE\"].unique()"
   ]
  },
  {
   "cell_type": "code",
   "execution_count": 21,
   "metadata": {},
   "outputs": [
    {
     "data": {
      "text/plain": [
       "array(['M3M 2X4'], dtype=object)"
      ]
     },
     "execution_count": 21,
     "metadata": {},
     "output_type": "execute_result"
    }
   ],
   "source": [
    "df.groupby(\"SHELTER_NAME\").get_group(\"Downsview Dells\")[\"SHELTER_POSTAL_CODE\"].unique()"
   ]
  },
  {
   "cell_type": "code",
   "execution_count": 22,
   "metadata": {},
   "outputs": [
    {
     "data": {
      "text/plain": [
       "array(['M5V 3W3'], dtype=object)"
      ]
     },
     "execution_count": 22,
     "metadata": {},
     "output_type": "execute_result"
    }
   ],
   "source": [
    "df.groupby(\"SHELTER_NAME\").get_group(\"Fort York Residence\")[\"SHELTER_POSTAL_CODE\"].unique()"
   ]
  },
  {
   "cell_type": "code",
   "execution_count": 23,
   "metadata": {},
   "outputs": [
    {
     "data": {
      "text/plain": [
       "array(['67 Adelaide Street East', '129 Peter St'], dtype=object)"
      ]
     },
     "execution_count": 23,
     "metadata": {},
     "output_type": "execute_result"
    }
   ],
   "source": [
    "df.groupby(\"SHELTER_NAME\").get_group(\"S2H Assessment and Referral Ctre\")[\"SHELTER_ADDRESS\"].unique()"
   ]
  }
 ],
 "metadata": {
  "kernelspec": {
   "display_name": "Python 3",
   "language": "python",
   "name": "python3"
  },
  "language_info": {
   "codemirror_mode": {
    "name": "ipython",
    "version": 3
   },
   "file_extension": ".py",
   "mimetype": "text/x-python",
   "name": "python",
   "nbconvert_exporter": "python",
   "pygments_lexer": "ipython3",
   "version": "3.7.6"
  }
 },
 "nbformat": 4,
 "nbformat_minor": 4
}
